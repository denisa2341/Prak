{
 "cells": [
  {
   "cell_type": "code",
   "execution_count": 2,
   "metadata": {},
   "outputs": [
    {
     "data": {
      "text/plain": [
       "<Figure size 640x480 with 1 Axes>"
      ]
     },
     "metadata": {},
     "output_type": "display_data"
    },
    {
     "data": {
      "text/plain": [
       "<Figure size 640x480 with 1 Axes>"
      ]
     },
     "metadata": {},
     "output_type": "display_data"
    },
    {
     "data": {
      "text/plain": [
       "<Figure size 640x480 with 1 Axes>"
      ]
     },
     "metadata": {},
     "output_type": "display_data"
    },
    {
     "data": {
      "text/plain": [
       "<Figure size 640x480 with 1 Axes>"
      ]
     },
     "metadata": {},
     "output_type": "display_data"
    },
    {
     "data": {
      "text/plain": [
       "<Figure size 640x480 with 1 Axes>"
      ]
     },
     "metadata": {},
     "output_type": "display_data"
    },
    {
     "data": {
      "text/plain": [
       "<Figure size 640x480 with 1 Axes>"
      ]
     },
     "metadata": {},
     "output_type": "display_data"
    },
    {
     "data": {
      "text/plain": [
       "<Figure size 640x480 with 1 Axes>"
      ]
     },
     "metadata": {},
     "output_type": "display_data"
    },
    {
     "data": {
      "text/plain": [
       "<Figure size 640x480 with 1 Axes>"
      ]
     },
     "metadata": {},
     "output_type": "display_data"
    },
    {
     "data": {
      "text/plain": [
       "<Figure size 640x480 with 1 Axes>"
      ]
     },
     "metadata": {},
     "output_type": "display_data"
    },
    {
     "data": {
      "text/plain": [
       "<Figure size 640x480 with 1 Axes>"
      ]
     },
     "metadata": {},
     "output_type": "display_data"
    }
   ],
   "source": [
    "import matplotlib.pyplot as plt\n",
    "import numpy as np\n",
    "from sklearn.datasets import load_digits\n",
    "def k_means(k, data, centre , EPS):\n",
    "\tlabels = get_labels(k ,data , centre)\n",
    "\ts = 0\n",
    "\tfor i in range(k):\n",
    "\t\tmask = (labels-i) == 0\n",
    "\t\tif len(data[mask])>0:\n",
    "\t\t\tcen = sum(data[mask])/len(data[mask])\n",
    "\t\t\ts += np.linalg.norm(cen-centre[i])\n",
    "\t\t\tcentre[i] = cen\n",
    "\tif (s>EPS):\n",
    "\t\treturn k_means(k ,data ,centre ,EPS)\n",
    "\telse:\n",
    "\t\treturn centre\n",
    "def get_labels(k ,data , centre):\n",
    "\tdist = np.empty((len(data) , k))\n",
    "\tfor i in range(len(data)):\n",
    "\t\tfor l in range(k):\n",
    "\t\t\tdist[i][l] = np.linalg.norm(data[i] - centre[l])\n",
    "\treturn np.array([np.argmin(dist[i]) for i in range(len(data))])\n",
    "def dig_in_clust(k1, digits, labels):\n",
    "\tsr = np.empty(10)\n",
    "\tmask = labels-k1 == 0\n",
    "\tfor i in range(10):\n",
    "\t\tmask1 = digits.target-i == 0\n",
    "\t\tmask2 = mask1&mask\n",
    "\t\tsr[i] = len(labels[mask2])\n",
    "\treturn np.argmax(sr)\n",
    "digits = load_digits()\n",
    "digits.images.shape\n",
    "centroids = digits.images[:10]\n",
    "centroids = k_means(10,digits.images,centroids, 0.01)\n",
    "for i in range(10):\n",
    "\tplt.imshow(centroids[i], cmap='gray')\n",
    "\tplt.title('This is {}'.format(dig_in_clust(i,digits,get_labels(10,digits.images, centroids))))\n",
    "\tplt.show()"
   ]
  },
  {
   "cell_type": "code",
   "execution_count": 3,
   "metadata": {},
   "outputs": [
    {
     "name": "stdout",
     "output_type": "stream",
     "text": [
      "0.4\n",
      "0.4\n"
     ]
    }
   ],
   "source": [
    "def stab(k1, digits, labels, k):\n",
    "\tif k1!=-1:\n",
    "\t\ts = 0\n",
    "\t\tmask = labels - k1 ==0\n",
    "\t\ta = np.array(digits.target)[mask]\n",
    "\t\tfor i in range(len(a)):\n",
    "\t\t\tif a[i]-dig_in_clust(k1, digits, labels) != 0:\n",
    "\t\t\t\ts+=1\n",
    "\t\treturn s/len(a)\n",
    "\telse:\n",
    "\t\ts = 0\n",
    "\t\tfor i in range(len(digits)):\n",
    "\t\t\tif digits.target[i]-dig_in_clust(labels[i],digits,labels) != 0:\n",
    "\t\t\t\ts+=1\n",
    "\t\tprint(s/len(digits))\n",
    "\t\treturn s/len(digits)\n",
    "\"\"\"функция stab вычисляет количество ошибок\n",
    "при к1 = -1 вычисляет для всех калстеров,\n",
    "при к1 = номеру кластера - ошибки данного кластера\"\"\"\n",
    "digits = load_digits()\n",
    "digits.images.shape\n",
    "centroids = digits.images[:10]\n",
    "centroids = k_means(10,digits.images,centroids, 0.01)\n",
    "print(stab(-1,digits, get_labels(10,digits.images, centroids), 10))"
   ]
  },
  {
   "cell_type": "code",
   "execution_count": 13,
   "metadata": {},
   "outputs": [
    {
     "name": "stdout",
     "output_type": "stream",
     "text": [
      "177  0  0  0  1  0  0  0  0  0    \n",
      "0  100  54  25  0  0  2  0  0  1    \n",
      "1  1  3  148  0  12  0  2  10  0    \n",
      "0  0  0  3  0  160  0  8  11  1    \n",
      "0  5  5  0  161  0  0  8  2  0    \n",
      "0  0  0  0  1  39  2  0  0  140    \n",
      "1  3  0  0  0  0  176  0  1  0    \n",
      "0  0  2  0  0  0  0  170  3  4    \n",
      "0  10  6  3  0  13  1  3  135  3    \n",
      "0  0  20  0  0  144  0  8  2  6    \n"
     ]
    },
    {
     "data": {
      "text/plain": [
       "'сделан вывод:сильно путаются цифры 3 5 9 6'"
      ]
     },
     "execution_count": 13,
     "metadata": {},
     "output_type": "execute_result"
    }
   ],
   "source": [
    "def aij(i,l,digits, labels, k):\n",
    "\tm1 = digits.target-i==0\n",
    "\tm2 = labels-l==0\n",
    "\tmask = m1&m2\n",
    "\ta = len(labels[mask])\n",
    "\treturn a\n",
    "digits = load_digits()\n",
    "digits.images.shape\n",
    "centroids = digits.images[:10]\n",
    "centroids = k_means(10,digits.images,centroids, 0.01)\n",
    "i = 0\n",
    "while i<10:\n",
    "\tfor l in range(10):\n",
    "\t\tprint(aij(i,l,digits, get_labels(10,digits.images, centroids), 10), \" \",end='')\n",
    "\ti+=1\n",
    "\tprint(\"  \")\n",
    "\"\"\"сделан вывод:сильно путаются цифры 3 5 9 6\"\"\""
   ]
  },
  {
   "cell_type": "code",
   "execution_count": 37,
   "metadata": {},
   "outputs": [
    {
     "name": "stdout",
     "output_type": "stream",
     "text": [
      "0.8\n"
     ]
    },
    {
     "ename": "IndexError",
     "evalue": "too many indices for array",
     "output_type": "error",
     "traceback": [
      "\u001b[0;31m-----------------------------------------------------------------------\u001b[0m",
      "\u001b[0;31mIndexError\u001b[0m                            Traceback (most recent call last)",
      "\u001b[0;32m<ipython-input-37-3cdee1acb294>\u001b[0m in \u001b[0;36m<module>\u001b[0;34m\u001b[0m\n\u001b[1;32m      7\u001b[0m     \u001b[0mcentroids\u001b[0m \u001b[0;34m=\u001b[0m \u001b[0mnp\u001b[0m\u001b[0;34m.\u001b[0m\u001b[0mcopy\u001b[0m\u001b[0;34m(\u001b[0m\u001b[0mdigits\u001b[0m\u001b[0;34m.\u001b[0m\u001b[0mimages\u001b[0m\u001b[0;34m[\u001b[0m\u001b[0;34m:\u001b[0m\u001b[0mki\u001b[0m\u001b[0;34m]\u001b[0m\u001b[0;34m)\u001b[0m\u001b[0;34m\u001b[0m\u001b[0;34m\u001b[0m\u001b[0m\n\u001b[1;32m      8\u001b[0m     \u001b[0mcentroids\u001b[0m \u001b[0;34m=\u001b[0m \u001b[0mk_means\u001b[0m\u001b[0;34m(\u001b[0m\u001b[0mki\u001b[0m\u001b[0;34m,\u001b[0m\u001b[0mdigits\u001b[0m\u001b[0;34m.\u001b[0m\u001b[0mimages\u001b[0m\u001b[0;34m,\u001b[0m\u001b[0mcentroids\u001b[0m\u001b[0;34m,\u001b[0m \u001b[0;36m0.01\u001b[0m\u001b[0;34m)\u001b[0m\u001b[0;34m\u001b[0m\u001b[0;34m\u001b[0m\u001b[0m\n\u001b[0;32m----> 9\u001b[0;31m     \u001b[0my\u001b[0m\u001b[0;34m[\u001b[0m\u001b[0mki\u001b[0m\u001b[0;34m-\u001b[0m\u001b[0;36m1\u001b[0m\u001b[0;34m]\u001b[0m \u001b[0;34m=\u001b[0m \u001b[0mstab\u001b[0m\u001b[0;34m(\u001b[0m\u001b[0;34m-\u001b[0m\u001b[0;36m1\u001b[0m\u001b[0;34m,\u001b[0m\u001b[0mdigits\u001b[0m\u001b[0;34m,\u001b[0m\u001b[0mget_labels\u001b[0m\u001b[0;34m(\u001b[0m\u001b[0mki\u001b[0m \u001b[0;34m,\u001b[0m\u001b[0mdigits\u001b[0m\u001b[0;34m.\u001b[0m\u001b[0mimages\u001b[0m \u001b[0;34m,\u001b[0m \u001b[0mcentroids\u001b[0m\u001b[0;34m)\u001b[0m\u001b[0;34m,\u001b[0m\u001b[0mki\u001b[0m\u001b[0;34m)\u001b[0m\u001b[0;34m\u001b[0m\u001b[0;34m\u001b[0m\u001b[0m\n\u001b[0m\u001b[1;32m     10\u001b[0m \u001b[0mX\u001b[0m \u001b[0;34m=\u001b[0m \u001b[0mnp\u001b[0m\u001b[0;34m.\u001b[0m\u001b[0mlinspace\u001b[0m\u001b[0;34m(\u001b[0m\u001b[0;34m-\u001b[0m\u001b[0mnp\u001b[0m\u001b[0;34m.\u001b[0m\u001b[0mpi\u001b[0m\u001b[0;34m,\u001b[0m \u001b[0mnp\u001b[0m\u001b[0;34m.\u001b[0m\u001b[0mpi\u001b[0m\u001b[0;34m,\u001b[0m \u001b[0;36m1000\u001b[0m\u001b[0;34m,\u001b[0m \u001b[0mendpoint\u001b[0m\u001b[0;34m=\u001b[0m\u001b[0;32mTrue\u001b[0m\u001b[0;34m)\u001b[0m\u001b[0;34m\u001b[0m\u001b[0;34m\u001b[0m\u001b[0m\n\u001b[1;32m     11\u001b[0m \u001b[0mplt\u001b[0m\u001b[0;34m.\u001b[0m\u001b[0mplot\u001b[0m\u001b[0;34m(\u001b[0m\u001b[0mx\u001b[0m\u001b[0;34m,\u001b[0m \u001b[0my\u001b[0m\u001b[0;34m,\u001b[0m \u001b[0mlabel\u001b[0m\u001b[0;34m=\u001b[0m\u001b[0;34m\"stab\"\u001b[0m\u001b[0;34m)\u001b[0m\u001b[0;34m\u001b[0m\u001b[0;34m\u001b[0m\u001b[0m\n",
      "\u001b[0;31mIndexError\u001b[0m: too many indices for array"
     ]
    }
   ],
   "source": [
    "k = [1,2,3,4,5,6,7,8,9,10,11,12,13,14,15,16,17,18,19,20]\n",
    "x = np.array(k)\n",
    "y = np.array(20)\n",
    "digits = load_digits()\n",
    "digits.images.shape\n",
    "for ki in k:\n",
    "    centroids = np.copy(digits.images[:ki])\n",
    "    centroids = k_means(ki,digits.images,centroids, 0.01)\n",
    "    y[ki-1] = stab(-1,digits,get_labels(ki ,digits.images , centroids),ki)\n",
    "X = np.linspace(-np.pi, np.pi, 1000, endpoint=True)\n",
    "plt.plot(x, y, label=\"stab\")\n",
    "plt.show()\n",
    "\"\"\"к = 13-14 - оптимальный вариант\"\"\""
   ]
  }
 ],
 "metadata": {
  "kernelspec": {
   "display_name": "Python 3",
   "language": "python",
   "name": "python3"
  },
  "language_info": {
   "codemirror_mode": {
    "name": "ipython",
    "version": 3
   },
   "file_extension": ".py",
   "mimetype": "text/x-python",
   "name": "python",
   "nbconvert_exporter": "python",
   "pygments_lexer": "ipython3",
   "version": "3.7.3"
  }
 },
 "nbformat": 4,
 "nbformat_minor": 2
}
