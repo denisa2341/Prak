{
 "cells": [
  {
   "cell_type": "code",
   "execution_count": 1,
   "metadata": {},
   "outputs": [
    {
     "name": "stdout",
     "output_type": "stream",
     "text": [
      "1\n",
      "odd\n"
     ]
    }
   ],
   "source": [
    "n = int(input())\n",
    "if n%2 == 0:\n",
    "\tprint(\"even\")\n",
    "else:\n",
    "\tprint(\"odd\")"
   ]
  },
  {
   "cell_type": "code",
   "execution_count": 2,
   "metadata": {},
   "outputs": [
    {
     "name": "stdout",
     "output_type": "stream",
     "text": [
      "4\n",
      "[1, 2, 4]\n"
     ]
    }
   ],
   "source": [
    "def fun(n):\n",
    "\tanswer = []\n",
    "\tfor i in range(n):\n",
    "\t\tif n % (i + 1) == 0:\n",
    "\t\t\tanswer.append(i+1)\n",
    "\treturn answer\n",
    "n = int(input())\n",
    "print(fun(n))"
   ]
  },
  {
   "cell_type": "code",
   "execution_count": null,
   "metadata": {},
   "outputs": [
    {
     "name": "stdout",
     "output_type": "stream",
     "text": [
      "Write name 1 \n",
      "d\n",
      "Write name 2 \n",
      "d\n",
      "You can choose 'Rock' , 'Paper' or 'Scissors' \n",
      "Write your element (player 1)\n",
      "Rock\n",
      "Write your element (player 2)\n",
      "Paper\n",
      "d  winner\n",
      "You can choose 'Rock' , 'Paper' or 'Scissors' \n",
      "Write your element (player 1)\n",
      "0\n",
      "Write your element (player 2)\n",
      "-\n",
      "no element\n",
      "You can choose 'Rock' , 'Paper' or 'Scissors' \n",
      "Write your element (player 1)\n"
     ]
    }
   ],
   "source": [
    "print(\"Write name 1 \")\n",
    "player1 = input()\n",
    "print(\"Write name 2 \")\n",
    "player2 = input()\n",
    "while 1:\n",
    "\tprint(\"You can choose 'Rock' , 'Paper' or 'Scissors' \")\n",
    "\tc = (\"Rock\" , \"Paper\" , \"Scissors\")\n",
    "\tprint(\"Write your element (player 1)\")\n",
    "\ta = input();\n",
    "\tprint(\"Write your element (player 2)\")\n",
    "\tb = input();\n",
    "\tif a in c and b in c:\n",
    "\t\tif a == \"Rock\":\n",
    "\t\t\tif b == \"Scissors\":\n",
    "\t\t\t\tprint(player1 ,\" winner\")\n",
    "\t\t\telif b == \"Rock\":\n",
    "\t\t\t\tprint(\"draw\")\n",
    "\t\t\telse:\n",
    "\t\t\t\tprint(player2 ,\" winner\")\n",
    "\t\tif a == \"Scissors\":\n",
    "\t\t\tif b == \"Paper\":\n",
    "\t\t\t\tprint(player1 ,\" winner\")\n",
    "\t\t\telif b == \"Scissors\":\n",
    "\t\t\t\tprint(\"draw\")\n",
    "\t\t\telse:\n",
    "\t\t\t\tprint(player2 ,\" winner\")\n",
    "\t\tif a == \"Paper\":\n",
    "\t\t\tif b == \"Rock\":\n",
    "\t\t\t\tprint(player1 ,\" winner\")\n",
    "\t\t\telif b == \"Paper\":\n",
    "\t\t\t\tprint(\"draw\")\n",
    "\t\t\telse:\n",
    "\t\t\t\tprint(player2 ,\" winner\")\n",
    "\telse:\n",
    "\t\tif a == \"exit\" or b == \"exit\":\n",
    "\t\t\tbreak\n",
    "\t\telse:\n",
    "\t\t\tprint(\"no element\")\n",
    "\n"
   ]
  },
  {
   "cell_type": "code",
   "execution_count": null,
   "metadata": {},
   "outputs": [],
   "source": [
    "def fun(n):\n",
    "\tfor i in range(n):\n",
    "\t\tif n % (i + 1) == 0:\n",
    "\t\t\tif (i+1) != n and i != 0:\n",
    "\t\t\t\treturn \"no prime\"\n",
    "\treturn \"prime\"\n",
    "\treturn answer\n",
    "n = int(input())\n",
    "print(fun(n))"
   ]
  },
  {
   "cell_type": "code",
   "execution_count": null,
   "metadata": {},
   "outputs": [],
   "source": [
    "import random\n",
    "print(\" Welcome to the Cows and Bulls Game! \")\n",
    "n = random.randrange(0 , 9999)\n",
    "ans = -1\n",
    "while n != ans:\n",
    "\tprint(\"Enter a number:\")\n",
    "\tans = int(input())\n",
    "\tif ans > 9999 or ans < 0:\n",
    "\t\tbreak\n",
    "\tcomp = []\n",
    "\tn1 = n\n",
    "\tfor i in range(4):\n",
    "\t\tcomp.append(n1%10)\n",
    "\t\tn1 = n1//10\n",
    "\tplr = []\n",
    "\tn2 = ans\n",
    "\tfor i in range(4):\n",
    "\t\tplr.append(n2%10)\n",
    "\t\tn2 = n2//10\n",
    "\tcows = 0\n",
    "\tbulls = 0\n",
    "\tfor i in range(4):\n",
    "\t\tif comp[3-i] == plr[3-i]:\n",
    "\t\t\tbulls +=1\n",
    "\t\t\tdel comp[3-i]\n",
    "\t\t\tdel plr[3-i]\n",
    "\tfor x in comp:\n",
    "\t\tif x in plr:\n",
    "\t\t\tcows +=1\n",
    "\tprint(bulls , \" - bulls\")\n",
    "\tprint(cows , \" - cows\")\n",
    "\tif n == ans:\n",
    "\t\tprint(\"You win\")\n"
   ]
  }
 ],
 "metadata": {
  "kernelspec": {
   "display_name": "Python 3",
   "language": "python",
   "name": "python3"
  },
  "language_info": {
   "codemirror_mode": {
    "name": "ipython",
    "version": 3
   },
   "file_extension": ".py",
   "mimetype": "text/x-python",
   "name": "python",
   "nbconvert_exporter": "python",
   "pygments_lexer": "ipython3",
   "version": "3.7.3"
  }
 },
 "nbformat": 4,
 "nbformat_minor": 2
}
