{
 "cells": [
  {
   "cell_type": "code",
   "execution_count": null,
   "metadata": {},
   "outputs": [],
   "source": [
    "import numpy as np\n",
    "import pandas as pd\n",
    "import matplotlib.pyplot as plt\n",
    "url1 = \"https://raw.githubusercontent.com/vaibhavwalvekar/NYC-Flights-2013-Dataset-Analysis/master/weather.csv\"\n",
    "url2 = \"https://raw.githubusercontent.com/vaibhavwalvekar/NYC-Flights-2013-Dataset-Analysis/master/flights.csv\"\n",
    "weather = pd.read_csv(url1) \n",
    "flights = pd.read_csv(url2) \n",
    "for i in range(len(X)):\n",
    "\tfm = X[i] == flights[\"arr_delay\"]\n",
    "\tw1 = weather[\"day\"].isin(flights[fm][\"day\"])\n",
    "\tw2 = weather[\"month\"].isin(flights[fm][\"month\"])\n",
    "\tY[i] = sum(weather[w1&w2][\"temp\"].dropna())/len(weather[w1&w2][\"temp\"].dropna())\n",
    "plt.xlabel(\"arr_delay\")\n",
    "plt.ylabel(\"mean temp\")\n",
    "plt.plot(X,Y)\n",
    "plt.show()\n",
    "\"\"\"зависимость задержек от погоды, чаще всего большие задержки (взлета) происходят при сильных отклонениях средней температуры\"\"\""
   ]
  },
  {
   "cell_type": "code",
   "execution_count": null,
   "metadata": {},
   "outputs": [],
   "source": [
    "for i in range(len(X)):\n",
    "\tfm = X[i] == flights[\"arr_delay\"]\n",
    "\tw1 = weather[\"day\"].isin(flights[fm][\"day\"])\n",
    "\tw2 = weather[\"month\"].isin(flights[fm][\"month\"])\n",
    "\tY[i] = sum(weather[w1&w2][\"visib\"].dropna())/len(weather[w1&w2][\"visib\"].dropna())\n",
    "plt.xlabel(\"arr_delay\")\n",
    "plt.ylabel(\"mean visible\")\n",
    "plt.plot(X,Y)\n",
    "plt.show()\n",
    "\"\"\"плохая видимость не является важнейшей причиной задержек(взлета)\"\"\""
   ]
  },
  {
   "cell_type": "code",
   "execution_count": null,
   "metadata": {},
   "outputs": [],
   "source": [
    "X = flights[\"month\"].dropna().unique()\n",
    "Y = np.empty(len(X))\n",
    "X.sort()\n",
    "for i in range(len(X)):\n",
    "\tfm = X[i] == flights[\"month\"]\n",
    "\tY[i] = sum(flights[fm][\"arr_delay\"].dropna())\n",
    "plt.xlabel(\"month\")\n",
    "plt.ylabel(\"arr_delay in this month\")\n",
    "plt.plot(X,Y)\n",
    "plt.show()\n",
    "\"\"\"в летние месяцы рейсы больше всего задерживаются\"\"\""
   ]
  },
  {
   "cell_type": "code",
   "execution_count": null,
   "metadata": {},
   "outputs": [],
   "source": [
    "X = flights[\"day\"].dropna().unique()\n",
    "Y = np.empty(len(X))\n",
    "X.sort()\n",
    "for i in range(len(X)):\n",
    "\tfm = X[i] == flights[\"day\"]\n",
    "\tY[i] = sum(flights[fm][\"arr_delay\"].dropna())\n",
    "plt.xlabel(\"day\")\n",
    "plt.ylabel(\"arr_delay in this day\")\n",
    "plt.plot(X,Y)\n",
    "plt.show()\n",
    "\"\"\"в конкретные дни месяца задержек меньше, чем в другие(это мб связано с месячными зарплатами, сменами и тд)\"\"\""
   ]
  },
  {
   "cell_type": "code",
   "execution_count": null,
   "metadata": {},
   "outputs": [],
   "source": [
    "X = flights[\"air_time\"].dropna().unique()\n",
    "Y = np.empty(len(X))\n",
    "X.sort()\n",
    "for i in range(len(X)):\n",
    "\tfm = X[i] == flights[\"air_time\"]\n",
    "\tY[i] = sum(flights[fm][\"arr_delay\"].dropna())\n",
    "plt.xlabel(\"air_time\")\n",
    "plt.ylabel(\"arr_delay\")\n",
    "plt.plot(X,Y)\n",
    "plt.show()\n",
    "\"\"\"суммарное время задержки(прилета), зависящее от общего времени полета\n",
    "отсюда можем понять, что при более длительном полете задержек меньше\"\"\""
   ]
  },
  {
   "cell_type": "code",
   "execution_count": null,
   "metadata": {},
   "outputs": [],
   "source": [
    "X = flights[\"air_time\"].dropna().unique()\n",
    "Y = np.empty(len(X))\n",
    "X.sort()\n",
    "for i in range(len(X)):\n",
    "\tfm = X[i] == flights[\"air_time\"]\n",
    "\tY[i] = sum(flights[fm][\"arr_delay\"].dropna())/len(flights[fm][\"arr_delay\"].dropna())\n",
    "plt.xlabel(\"air_time\")\n",
    "plt.ylabel(\"arr_delay \")\n",
    "plt.plot(X,Y)\n",
    "plt.show()\n",
    "\"\"\"среднее время задержки(прилета), зависящее от общего времени полета\n",
    "эти данные говорят нам о том, что в среднем задержки при длительных полетах дольше(но их иеньше из пред пункта)\"\"\""
   ]
  }
 ],
 "metadata": {
  "kernelspec": {
   "display_name": "Python 3",
   "language": "python",
   "name": "python3"
  },
  "language_info": {
   "codemirror_mode": {
    "name": "ipython",
    "version": 3
   },
   "file_extension": ".py",
   "mimetype": "text/x-python",
   "name": "python",
   "nbconvert_exporter": "python",
   "pygments_lexer": "ipython3",
   "version": "3.7.3"
  }
 },
 "nbformat": 4,
 "nbformat_minor": 2
}
