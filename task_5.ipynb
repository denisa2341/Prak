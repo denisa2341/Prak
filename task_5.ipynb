{
 "cells": [
  {
   "cell_type": "code",
   "execution_count": 1,
   "metadata": {},
   "outputs": [
    {
     "name": "stdout",
     "output_type": "stream",
     "text": [
      "4.758539127676484e+115\n"
     ]
    }
   ],
   "source": [
    "import numpy as np\n",
    "import math \n",
    "n = 100\n",
    "N = 10000\n",
    "Bn = 0\n",
    "for i in range(N):\n",
    "\tBn = Bn + (i+1)**n/math.factorial(i+1)\n",
    "Bn = Bn/math.e\n",
    "print(Bn)"
   ]
  },
  {
   "cell_type": "code",
   "execution_count": 3,
   "metadata": {},
   "outputs": [
    {
     "name": "stdout",
     "output_type": "stream",
     "text": [
      "[74] <-множество  1\n",
      "[ 9 10 43 78] <-множество  2\n",
      "[ 44  75 100] <-множество  3\n",
      "[12 65 67 83 93] <-множество  4\n",
      "[ 2 23 24 52 58] <-множество  5\n",
      "[11 36 69 71 73 89] <-множество  6\n",
      "[41 60 68] <-множество  7\n",
      "[26 64] <-множество  8\n",
      "[22 28 55 62] <-множество  9\n",
      "[33 77 90 98] <-множество  10\n",
      "[49 80] <-множество  11\n",
      "[39] <-множество  12\n",
      "[25 61] <-множество  13\n",
      "[14 42 45 50 95] <-множество  14\n",
      "[51 56 59 87] <-множество  15\n",
      "[63] <-множество  16\n",
      "[ 1  5 21 38] <-множество  17\n",
      "[ 7 54 81] <-множество  18\n",
      "[37 82 84 85] <-множество  19\n",
      "[13 27 40 47 72 79] <-множество  20\n",
      "[ 8 66 97] <-множество  21\n",
      "[ 3 15 76] <-множество  22\n",
      "[35] <-множество  23\n",
      "[ 6 17 88] <-множество  24\n",
      "[16 18 19 29 34 46 48 53 91 96] <-множество  25\n",
      "[20 94 99] <-множество  26\n",
      "[31 32 70 86] <-множество  27\n",
      "[ 4 30 57 92] <-множество  28\n"
     ]
    }
   ],
   "source": [
    "def rng(m=2**32, a=1103515245, c=12345):\n",
    "    rng.current = (a * rng.current + c) % m\n",
    "    return rng.current / m\n",
    "def K_gen(Bn,n):\n",
    "\tx = rng()\n",
    "\tk = 1\n",
    "\tf = 0\n",
    "\twhile f < x:\n",
    "\t\tf += k**n/(math.factorial(k)*math.e*Bn)\n",
    "\t\tk+=1\n",
    "\t\tif k > 2*n:\n",
    "\t\t\tf = x\n",
    "\treturn k-1\n",
    "def C_gen(K):\n",
    "\tx = rng()\n",
    "\tf = 0\n",
    "\ti = 0\n",
    "\twhile f < x:\n",
    "\t\tf += 1/K\n",
    "\t\ti +=1\n",
    "\treturn i-1\n",
    "def Generator(n , Bn):\n",
    "\tK = K_gen(Bn,n)\n",
    "\tC = np.empty(n)\n",
    "\tfor i in range(n):\n",
    "\t\tC[i] = C_gen(K)\n",
    "\treturn C\n",
    "rng.current = 1\n",
    "C = Generator(n,Bn)\n",
    "Uniq = np.unique(C,axis = 0)\n",
    "C1 = np.arange(n)\n",
    "for i in Uniq:\n",
    "\tmask = i == C\n",
    "\tprint(C1[mask]+1, \"<-множество \", int(i+1))"
   ]
  }
 ],
 "metadata": {
  "kernelspec": {
   "display_name": "Python 3",
   "language": "python",
   "name": "python3"
  },
  "language_info": {
   "codemirror_mode": {
    "name": "ipython",
    "version": 3
   },
   "file_extension": ".py",
   "mimetype": "text/x-python",
   "name": "python",
   "nbconvert_exporter": "python",
   "pygments_lexer": "ipython3",
   "version": "3.7.3"
  }
 },
 "nbformat": 4,
 "nbformat_minor": 2
}
