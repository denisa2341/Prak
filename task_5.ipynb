{
 "cells": [
  {
   "cell_type": "code",
   "execution_count": 1,
   "metadata": {},
   "outputs": [
    {
     "name": "stdout",
     "output_type": "stream",
     "text": [
      "4.758539127676484e+115\n"
     ]
    }
   ],
   "source": [
    "import numpy as np\n",
    "import math \n",
    "import matplotlib.pyplot as plt \n",
    "import time\n",
    "n = 100\n",
    "N = 10000\n",
    "Bn = 0\n",
    "for i in range(N):\n",
    "\tBn = Bn + (i+1)**n/math.factorial(i+1)\n",
    "Bn = Bn/math.e\n",
    "print(Bn)"
   ]
  },
  {
   "cell_type": "code",
   "execution_count": 2,
   "metadata": {},
   "outputs": [
    {
     "name": "stdout",
     "output_type": "stream",
     "text": [
      "[74] <-множество  1\n",
      "[ 9 10 43 78] <-множество  2\n",
      "[ 44  75 100] <-множество  3\n",
      "[12 65 67 83 93] <-множество  4\n",
      "[ 2 23 24 52 58] <-множество  5\n",
      "[11 36 69 71 73 89] <-множество  6\n",
      "[41 60 68] <-множество  7\n",
      "[26 64] <-множество  8\n",
      "[22 28 55 62] <-множество  9\n",
      "[33 77 90 98] <-множество  10\n",
      "[49 80] <-множество  11\n",
      "[39] <-множество  12\n",
      "[25 61] <-множество  13\n",
      "[14 42 45 50 95] <-множество  14\n",
      "[51 56 59 87] <-множество  15\n",
      "[63] <-множество  16\n",
      "[ 1  5 21 38] <-множество  17\n",
      "[ 7 54 81] <-множество  18\n",
      "[37 82 84 85] <-множество  19\n",
      "[13 27 40 47 72 79] <-множество  20\n",
      "[ 8 66 97] <-множество  21\n",
      "[ 3 15 76] <-множество  22\n",
      "[35] <-множество  23\n",
      "[ 6 17 88] <-множество  24\n",
      "[16 18 19 29 34 46 48 53 91 96] <-множество  25\n",
      "[20 94 99] <-множество  26\n",
      "[31 32 70 86] <-множество  27\n",
      "[ 4 30 57 92] <-множество  28\n"
     ]
    },
    {
     "data": {
      "text/plain": [
       "'последняя задача'"
      ]
     },
     "execution_count": 2,
     "metadata": {},
     "output_type": "execute_result"
    }
   ],
   "source": [
    "def rng(m=2**32, a=1103515245, c=12345):\n",
    "    rng.current = (a * rng.current + c) % m\n",
    "    return rng.current / m\n",
    "def K_gen(Bn,n):\n",
    "\tx = rng()\n",
    "\tk = 1\n",
    "\tf = 0\n",
    "\twhile f < x:\n",
    "\t\tf += k**n/(math.factorial(k)*math.e*Bn)\n",
    "\t\tk+=1\n",
    "\t\tif k > 2*n:\n",
    "\t\t\tf = x\n",
    "\treturn k-1\n",
    "def C_gen(K):\n",
    "\tx = rng()\n",
    "\tf = 0\n",
    "\ti = 0\n",
    "\twhile f < x:\n",
    "\t\tf += 1/K\n",
    "\t\ti +=1\n",
    "\treturn i-1\n",
    "def Generator(n , Bn):\n",
    "\tK = K_gen(Bn,n)\n",
    "\tC = np.empty(n)\n",
    "\tfor i in range(n):\n",
    "\t\tC[i] = C_gen(K)\n",
    "\treturn C\n",
    "rng.current = 1\n",
    "C = Generator(n,Bn)\n",
    "Uniq = np.unique(C,axis = 0)\n",
    "C1 = np.arange(n)\n",
    "for i in Uniq:\n",
    "\tmask = i == C\n",
    "\tprint(C1[mask]+1, \"<-множество \", int(i+1))\n",
    "\"\"\"последняя задача\"\"\""
   ]
  },
  {
   "cell_type": "code",
   "execution_count": 5,
   "metadata": {},
   "outputs": [
    {
     "name": "stdout",
     "output_type": "stream",
     "text": [
      "time1 =  0.025314807891845703\n"
     ]
    },
    {
     "data": {
      "text/plain": [
       "<BarContainer object of 10 artists>"
      ]
     },
     "execution_count": 5,
     "metadata": {},
     "output_type": "execute_result"
    },
    {
     "data": {
      "image/png": "[encoded data removed]",
      "text/plain": [
       "<Figure size 432x288 with 1 Axes>"
      ]
     },
     "metadata": {
      "needs_background": "light"
     },
     "output_type": "display_data"
    }
   ],
   "source": [
    "def KSI(a):\n",
    "\tx = rng()\n",
    "\ts = 0\n",
    "\ti=0\n",
    "\twhile s<x:\n",
    "\t\ts+=a[i]\n",
    "\t\ti+=1\n",
    "\t\tif i > 9:\n",
    "\t\t\treturn 9;\n",
    "\treturn i-1\n",
    "a = np.array([0.12,0.3,0.167,0.24,0.31,0.54,0.111,0.02,0.001,0.2], float)\n",
    "a_norm = a/sum(a)\n",
    "num = np.zeros(10)\n",
    "start_time = time.time()\n",
    "for i in range(1000):\n",
    "\tx = KSI(a_norm)\n",
    "\tnum[x]+=1\n",
    "print(\"time1 = \",time.time()-start_time)\n",
    "fig, ax = plt.subplots()\n",
    "ax.bar(np.arange(0,10), num, color = \"green\")\n"
   ]
  },
  {
   "cell_type": "code",
   "execution_count": 20,
   "metadata": {},
   "outputs": [
    {
     "name": "stdout",
     "output_type": "stream",
     "text": [
      "time2 =  0.03564858436584473\n"
     ]
    },
    {
     "data": {
      "text/plain": [
       "'делаем вывод, программа работает быстрее'"
      ]
     },
     "execution_count": 20,
     "metadata": {},
     "output_type": "execute_result"
    }
   ],
   "source": [
    "a_norm.sort()\n",
    "start_time = time.time()\n",
    "num = np.zeros(10)\n",
    "for i in range(1000):\n",
    "\tx = KSI(a_norm)\n",
    "\tnum[x]+=1\n",
    "print(\"time2 = \",time.time()-start_time)\n",
    "\"\"\"делаем вывод, программа работает быстрее\"\"\""
   ]
  },
  {
   "cell_type": "code",
   "execution_count": 22,
   "metadata": {},
   "outputs": [
    {
     "data": {
      "image/png": "[encoded data removed]",
      "text/plain": [
       "<Figure size 432x288 with 1 Axes>"
      ]
     },
     "metadata": {
      "needs_background": "light"
     },
     "output_type": "display_data"
    },
    {
     "name": "stdout",
     "output_type": "stream",
     "text": [
      "имеем плотность:\n"
     ]
    }
   ],
   "source": [
    "def EXP(h,x):\n",
    "\tab = -(math.log(1-x))/h\n",
    "\treturn (ab,h*math.exp(-h*ab))\n",
    "X = np.empty(1000)\n",
    "Y = np.empty(1000)\n",
    "for i in range(1000):\n",
    "\tY[i] = rng()\n",
    "Y.sort()\n",
    "for i in range(1000):\n",
    "\tX[i],Y[i] = EXP(0.5,Y[i])\n",
    "plt.fill_between(X,0,Y)\n",
    "plt.show()\n",
    "print(\"имеем плотность:\")"
   ]
  },
  {
   "cell_type": "code",
   "execution_count": 27,
   "metadata": {},
   "outputs": [
    {
     "data": {
      "image/png": "[encoded data removed]",
      "text/plain": [
       "<Figure size 432x288 with 1 Axes>"
      ]
     },
     "metadata": {
      "needs_background": "light"
     },
     "output_type": "display_data"
    }
   ],
   "source": [
    "X1 = np.arange(0,20,0.1)\n",
    "Y1 = np.zeros(len(X1))\n",
    "for i in range(1000):\n",
    "\tx=X[i]\n",
    "\tk = 0\n",
    "\tt = 1\n",
    "\twhile (x > X1[k]) and (t == 1):\n",
    "\t\tif k == len(X1)-1:\n",
    "\t\t\tt = 0\n",
    "\t\telse:\n",
    "\t\t\tk+=1\n",
    "\tY1[k-1]+=1\n",
    "fig, ax = plt.subplots()\n",
    "ax.bar(X1, Y1)\n",
    "plt.show()"
   ]
  },
  {
   "cell_type": "code",
   "execution_count": 29,
   "metadata": {},
   "outputs": [
    {
     "data": {
      "image/png": "[encoded data removed]",
      "text/plain": [
       "<Figure size 432x288 with 1 Axes>"
      ]
     },
     "metadata": {
      "needs_background": "light"
     },
     "output_type": "display_data"
    }
   ],
   "source": [
    "def triangle(a1,a2,a3):\n",
    "\tv1 = [a2[0] - a1[0],a2[1] - a1[1]]\n",
    "\tv2 = [a3[0] - a1[0],a3[1] - a1[1]]\n",
    "\tx = rng()\n",
    "\ty = rng()\n",
    "\tax,ay = (a1[0]+v1[0]*x+v2[0]*y,a1[1]+v1[1]*x+v2[1]*y)\n",
    "\tif (a3[1]-a2[1])/(a3[0]-a2[0])*ax - (a3[1]-a2[1])/(a3[0]-a2[0])*a2[0]+a2[1] < ay:\n",
    "\t\tc_point = [(a2[0]+a3[0])/2,(a2[1]+a3[1])/2]\n",
    "\t\tax = ax + 2*(c_point[0]-ax)\n",
    "\t\tay = ay + 2*(c_point[1]-ay)\n",
    "\treturn ax,ay\n",
    "X = np.empty(500)\n",
    "Y = np.empty(500)\n",
    "for i in range(500):\n",
    "\tX[i],Y[i] = triangle([1,2],[2,9],[8,1])\n",
    "plt.scatter(X,Y)\n",
    "plt.show()"
   ]
  },
  {
   "cell_type": "code",
   "execution_count": 30,
   "metadata": {},
   "outputs": [
    {
     "data": {
      "image/png": "[encoded data removed]",
      "text/plain": [
       "<Figure size 432x288 with 1 Axes>"
      ]
     },
     "metadata": {
      "needs_background": "light"
     },
     "output_type": "display_data"
    }
   ],
   "source": [
    "def KRUG():\n",
    "\tx1 = rng()*2-1\n",
    "\tx2 = rng()*2*math.sqrt(1-x1*x1) - math.sqrt(1-x1*x1)\n",
    "\treturn x1,x2\n",
    "X = np.empty(500)\n",
    "Y = np.empty(500)\n",
    "for i in range(500):\n",
    "\tX[i],Y[i] = KRUG()\n",
    "plt.scatter(X,Y)\n",
    "plt.show()"
   ]
  }
 ],
 "metadata": {
  "kernelspec": {
   "display_name": "Python 3",
   "language": "python",
   "name": "python3"
  },
  "language_info": {
   "codemirror_mode": {
    "name": "ipython",
    "version": 3
   },
   "file_extension": ".py",
   "mimetype": "text/x-python",
   "name": "python",
   "nbconvert_exporter": "python",
   "pygments_lexer": "ipython3",
   "version": "3.7.3"
  }
 },
 "nbformat": 4,
 "nbformat_minor": 2
}
