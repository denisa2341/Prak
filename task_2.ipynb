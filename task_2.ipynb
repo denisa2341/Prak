{
 "cells": [
  {
   "cell_type": "code",
   "execution_count": null,
   "metadata": {},
   "outputs": [],
   "source": [
    "import numpy as np\n",
    "b = np.random.rand(10 , 3)\n",
    "a = np.array([b[i][(np.abs(b[i]-0.5)).argmin()] for i in range(10)])"
   ]
  },
  {
   "cell_type": "code",
   "execution_count": null,
   "metadata": {},
   "outputs": [],
   "source": [
    "import numpy as np\n",
    "b = np.random.rand(6 , 6)\n",
    "a = np.array([np.sum(b[i])/(np.min(b.T[i])) for i in range(6)])\n",
    "print(a)"
   ]
  },
  {
   "cell_type": "code",
   "execution_count": null,
   "metadata": {},
   "outputs": [],
   "source": [
    "import numpy as np\n",
    "x = np.array([6, 2, 0, 3, 0, 0, 5, 7, 0])\n",
    "a = np.max(x[(np.argwhere(x[:-1] == 0) + 1)])\n",
    "print(a)"
   ]
  },
  {
   "cell_type": "code",
   "execution_count": null,
   "metadata": {},
   "outputs": [],
   "source": [
    "import numpy as np\n",
    "x = np.ones(10)\n",
    "i = np.array([0, 1, 2, 3, 5, 5, 5, 8])\n",
    "for a in i:\n",
    "\tx[a] += 1\n",
    "print(x)"
   ]
  },
  {
   "cell_type": "code",
   "execution_count": null,
   "metadata": {},
   "outputs": [],
   "source": [
    "\"\"\"k-means\"\"\"\n",
    "import numpy as np\n",
    "import matplotlib.pyplot as plt\n",
    "def k_means(k, data, centre , EPS):\n",
    "\tlabels = get_labels(k ,data , centre)\n",
    "\ts = 0\n",
    "\tfor i in range(k):\n",
    "\t\tmask = (labels-i) == 0\n",
    "\t\tif len(data[mask])>0:\n",
    "\t\t\tcen = sum(data[mask])/len(data[mask])\n",
    "\t\t\ts += np.linalg.norm(cen-centre[i])\n",
    "\t\t\tcentre[i] = cen\n",
    "\tif (s>EPS):\n",
    "\t\treturn k_means(k ,data ,centre ,EPS)\n",
    "\telse:\n",
    "\t\treturn centre\n",
    "def get_labels(k ,data , centre):\n",
    "\tdist = np.empty((len(data), k))\n",
    "\tfor i in range(len(data)):\n",
    "\t\tdist[i] = np.linalg.norm(data[i]-centre,axis = 1)\n",
    "\treturn np.argmin(dist , axis = 1)\n",
    "\"\"\"d1 = np.random.random((1000,2))\n",
    "d1 = d1*100\n",
    "d1[:500 , :] += (100, 100)\n",
    "d2 = np.random.random((2,2))\n",
    "d2 *= 100\n",
    "d2 =k_means(2, d1 , d2 , 0.0001)\n",
    "plt.scatter(*d1.T, c=np.where(get_labels(2,d1,d2), \"green\", \"red\"), s=20)\n",
    "plt.scatter(*d2.T, c=[\"red\", \"green\"], s=95, marker='*')\n",
    "plt.show()\"\"\""
   ]
  }
 ],
 "metadata": {
  "kernelspec": {
   "display_name": "Python 3",
   "language": "python",
   "name": "python3"
  },
  "language_info": {
   "codemirror_mode": {
    "name": "ipython",
    "version": 3
   },
   "file_extension": ".py",
   "mimetype": "text/x-python",
   "name": "python",
   "nbconvert_exporter": "python",
   "pygments_lexer": "ipython3",
   "version": "3.7.3"
  }
 },
 "nbformat": 4,
 "nbformat_minor": 2
}
